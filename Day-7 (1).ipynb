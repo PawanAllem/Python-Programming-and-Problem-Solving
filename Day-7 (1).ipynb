{
 "cells": [
  {
   "cell_type": "code",
   "execution_count": 4,
   "metadata": {},
   "outputs": [
    {
     "name": "stdout",
     "output_type": "stream",
     "text": [
      "90\n"
     ]
    }
   ],
   "source": [
    "#Print all the even numbers using functions\n",
    "def printEven(n):\n",
    "    count = 0;\n",
    "    sum = 0;\n",
    "    while(count != n):\n",
    "        if(count%2==0):\n",
    "            sum = sum + count;\n",
    "        count = count +1\n",
    "    return sum;\n",
    "print(printEven(20))"
   ]
  },
  {
   "cell_type": "code",
   "execution_count": 2,
   "metadata": {},
   "outputs": [
    {
     "name": "stdout",
     "output_type": "stream",
     "text": [
      "Enter the number whose factor list you want to find:6\n",
      "1 2 3 "
     ]
    }
   ],
   "source": [
    "#Factors List of given numbers:\n",
    "def factorsList(n):\n",
    "    i=1;\n",
    "    while(i!=n):\n",
    "        if(n%i==0):\n",
    "            print(i,end = \" \")\n",
    "        i=i+1;\n",
    "    return;\n",
    "a = int(input(\"Enter the number whose factor list you want to find:\"))\n",
    "factorsList(a)"
   ]
  },
  {
   "cell_type": "code",
   "execution_count": 3,
   "metadata": {},
   "outputs": [
    {
     "name": "stdout",
     "output_type": "stream",
     "text": [
      "[1, 2, 3, 4, 5]\n",
      "1\n"
     ]
    }
   ],
   "source": [
    "list1 = [1,2,3,4,5]\n",
    "#print all the elements\n",
    "print(list1);\n",
    "#print a value by its stored index\n",
    "print(list1[0]);"
   ]
  },
  {
   "cell_type": "code",
   "execution_count": 5,
   "metadata": {},
   "outputs": [
    {
     "name": "stdout",
     "output_type": "stream",
     "text": [
      "Anand Tarun Pawan "
     ]
    }
   ],
   "source": [
    "list2=[\"Anand\",\"Tarun\",\"Pawan\"];\n",
    "for i in list2:\n",
    "    print(i,end=\" \");\n"
   ]
  },
  {
   "cell_type": "code",
   "execution_count": 8,
   "metadata": {},
   "outputs": [
    {
     "name": "stdout",
     "output_type": "stream",
     "text": [
      "1 2 3 4 5 6 7 8 9 10 [1, 2, 3, 4, 5, 6, 7, 8, 9, 10]\n",
      "5\n",
      "[4, 5, 6, 7]\n",
      "[1, 2, 3]\n"
     ]
    }
   ],
   "source": [
    "list1=[1,2,3,4,5,6,7,8,9,10]\n",
    "for i in list1:\n",
    "    print(i,end=\" \")\n",
    "print(list1);\n",
    "print(list1[4])\n",
    "print(list1[3:7])\n",
    "print(list1[:3])"
   ]
  },
  {
   "cell_type": "code",
   "execution_count": 12,
   "metadata": {},
   "outputs": [
    {
     "name": "stdout",
     "output_type": "stream",
     "text": [
      "1 2 3 4 5 6 7 8 9 10 \n",
      "[2, 3, 4, 5, 6, 7, 8, 9]\n",
      "[1, 3, 5, 7, 9]\n",
      "[1, 4, 7, 10]\n",
      "[1, 5, 9]\n",
      "[10, 8, 6, 4, 2]\n",
      "10\n"
     ]
    }
   ],
   "source": [
    "list1= [1,2,3,4,5,6,7,8,9,10]\n",
    "for i in list1:\n",
    "    print(i,end=\" \")\n",
    "print();\n",
    "print(list1[1:-1])\n",
    "\n",
    "print(list1[::2])\n",
    "print(list1[::3])\n",
    "print(list1[::4])\n",
    "print(list1[::-2])\n",
    "print(list1[-1])"
   ]
  },
  {
   "cell_type": "code",
   "execution_count": 19,
   "metadata": {},
   "outputs": [
    {
     "name": "stdout",
     "output_type": "stream",
     "text": [
      "['Anand', 'Tarun', 'Pawan', 1]\n",
      "['Anand', 'Tarun', 'Pawan', 16]\n",
      "['Anand', 'Tarun', 'Pawan']\n",
      "['Anand', 'Tarun', 'Gitam']\n",
      "[1, 2, 3]\n",
      "['Anand', 'Tarun', 'Gitam', 1, 2, 3]\n"
     ]
    }
   ],
   "source": [
    "#inserting and deleting from the list\n",
    "list1=[\"Anand\",\"Tarun\",\"Pawan\",1];\n",
    "print(list1)\n",
    "list1[3] = 16#Insert into the list\n",
    "print(list1)\n",
    "del list1[3]\n",
    "print(list1)\n",
    "list1[2] = \"Gitam\"\n",
    "print(list1)\n",
    "list2=[1,2,3]\n",
    "print(list2)\n",
    "print(list1+list2)"
   ]
  },
  {
   "cell_type": "code",
   "execution_count": 21,
   "metadata": {},
   "outputs": [
    {
     "name": "stdout",
     "output_type": "stream",
     "text": [
      "[1, 2, 3, 4, 5, 6]\n",
      "[1, 2, 4, 5, 6]\n",
      "5\n",
      "[1, 2, 4, 5, 6, 50]\n",
      "1\n"
     ]
    }
   ],
   "source": [
    "list1=[1,2,3,4,5,6]\n",
    "print(list1)\n",
    "del list1[2];\n",
    "print(list1)\n",
    "print(len(list1))#Len is used to find the list lenght\n",
    "list1.append(50)\n",
    "print(list1)\n",
    "print(list1.count(1))\n"
   ]
  },
  {
   "cell_type": "code",
   "execution_count": 23,
   "metadata": {},
   "outputs": [
    {
     "ename": "ValueError",
     "evalue": "'Edward' is not in list",
     "output_type": "error",
     "traceback": [
      "\u001b[1;31m---------------------------------------------------------------------------\u001b[0m",
      "\u001b[1;31mValueError\u001b[0m                                Traceback (most recent call last)",
      "\u001b[1;32m<ipython-input-23-0f4c811e6ddd>\u001b[0m in \u001b[0;36m<module>\u001b[1;34m\u001b[0m\n\u001b[0;32m      1\u001b[0m \u001b[0mname\u001b[0m\u001b[1;33m=\u001b[0m\u001b[1;33m[\u001b[0m\u001b[1;34m'Amir'\u001b[0m\u001b[1;33m,\u001b[0m\u001b[1;34m'Barry'\u001b[0m\u001b[1;33m,\u001b[0m\u001b[1;34m'Chales'\u001b[0m\u001b[1;33m,\u001b[0m\u001b[1;34m'Dao'\u001b[0m\u001b[1;33m]\u001b[0m\u001b[1;33m\u001b[0m\u001b[1;33m\u001b[0m\u001b[0m\n\u001b[1;32m----> 2\u001b[1;33m \u001b[0mloc\u001b[0m \u001b[1;33m=\u001b[0m \u001b[0mname\u001b[0m\u001b[1;33m.\u001b[0m\u001b[0mindex\u001b[0m\u001b[1;33m(\u001b[0m\u001b[1;34m\"Edward\"\u001b[0m\u001b[1;33m)\u001b[0m\u001b[1;33m\u001b[0m\u001b[1;33m\u001b[0m\u001b[0m\n\u001b[0m\u001b[0;32m      3\u001b[0m \u001b[0mprint\u001b[0m\u001b[1;33m(\u001b[0m\u001b[0mloc\u001b[0m\u001b[1;33m)\u001b[0m\u001b[1;33m\u001b[0m\u001b[1;33m\u001b[0m\u001b[0m\n",
      "\u001b[1;31mValueError\u001b[0m: 'Edward' is not in list"
     ]
    }
   ],
   "source": [
    "name=['Amir','Barry','Chales','Dao']\n",
    "loc = name.index(\"Edward\")\n",
    "print(loc)\n"
   ]
  },
  {
   "cell_type": "code",
   "execution_count": 24,
   "metadata": {},
   "outputs": [
    {
     "name": "stdout",
     "output_type": "stream",
     "text": [
      "['Gitam', 'Python', 'Raptor', 1, 4, 'Python', 'Python']\n",
      "7\n",
      "['Gitam', 'Python', 2019, 'Raptor', 1, 4, 'Python', 'Python']\n",
      "8\n",
      "['Gitam', 'Python', 2019, 'Raptor', 2020, 1, 4, 'Python', 'Python']\n"
     ]
    }
   ],
   "source": [
    "list1 = [\"Gitam\",\"Python\",\"Raptor\",1,4,\"Python\",\"Python\"]\n",
    "print(list1)\n",
    "list1.index(\"Python\")#finds the index of the obj\n",
    "list1.index(1)\n",
    "print(len(list1))\n",
    "list1.insert(2,2019)\n",
    "print(list1)\n",
    "print(len(list1))\n",
    "list1.insert(4,2020)\n",
    "print(list1)"
   ]
  },
  {
   "cell_type": "code",
   "execution_count": 27,
   "metadata": {},
   "outputs": [
    {
     "name": "stdout",
     "output_type": "stream",
     "text": [
      "['Gitam', 'Python', 'Raptor', 1, 5, 'Python', 'Python']\n",
      "['Gitam', 'Raptor', 1, 5, 'Python', 'Python']\n",
      "['Gitam', 'Raptor', 1, 5, 'Python']\n",
      "['Python', 5, 1, 'Raptor', 'Gitam']\n"
     ]
    }
   ],
   "source": [
    "list1=[\"Gitam\",\"Python\",\"Raptor\",1,5,\"Python\",\"Python\"]\n",
    "print(list1)\n",
    "list1.remove(\"Python\")\n",
    "print(list1)\n",
    "list1.remove(\"Python\")\n",
    "print(list1)\n",
    "\n",
    "list1.reverse()\n",
    "print(list1)"
   ]
  },
  {
   "cell_type": "code",
   "execution_count": 8,
   "metadata": {},
   "outputs": [
    {
     "name": "stdout",
     "output_type": "stream",
     "text": [
      "Target item is found\n"
     ]
    }
   ],
   "source": [
    "#Linear Search\n",
    "def linearSearch(a,tarItem):\n",
    "    flag = 0;\n",
    "    for i in range(len(a)):\n",
    "        if a[i]==tarItem:\n",
    "            flag = 1;\n",
    "       \n",
    "            break\n",
    "            \n",
    "    if(flag!=0):\n",
    "       \n",
    "        print(\"Target item is found\")\n",
    "    else:\n",
    "        print(\"Target item is not found\")\n",
    "a = [16,2,3,6,1,15,19,11]\n",
    "linearSearch(a,16)\n"
   ]
  },
  {
   "cell_type": "code",
   "execution_count": 10,
   "metadata": {},
   "outputs": [
    {
     "name": "stdout",
     "output_type": "stream",
     "text": [
      "2\n"
     ]
    }
   ],
   "source": [
    "def linearSearchDuplicate(a,tarItem):\n",
    "    flag = 0\n",
    "    for i in range(len(a)):\n",
    "        if a[i]==tarItem:\n",
    "            flag = flag+1;\n",
    "    print(flag)\n",
    "a = [1,2,5,4,6,1,6,8]\n",
    "linearSearchDuplicate(a,1)\n",
    "    \n",
    "        "
   ]
  },
  {
   "cell_type": "code",
   "execution_count": 11,
   "metadata": {},
   "outputs": [
    {
     "name": "stdout",
     "output_type": "stream",
     "text": [
      "1 9 19 22 "
     ]
    }
   ],
   "source": [
    "def linearFormattedoutput(a):\n",
    "    for i in range(len(a)):\n",
    "        if i==0 or (i==len(a) - 1):\n",
    "            print(a[i],end = \" \")\n",
    "        elif a[i-1]%2==0 and a[i+1]%2==0:\n",
    "            print(a[i],end =\" \")\n",
    "a = [1,6,9,4,16,19,22]\n",
    "linearFormattedoutput(a)\n",
    "            "
   ]
  },
  {
   "cell_type": "code",
   "execution_count": 19,
   "metadata": {},
   "outputs": [
    {
     "name": "stdout",
     "output_type": "stream",
     "text": [
      "Enter a number: 2938623756\n",
      "[2, 9, 3, 8, 6, 2, 3, 7, 5, 6]\n"
     ]
    }
   ],
   "source": [
    "def numberToListConversion(n):\n",
    "    list = []\n",
    "    while n!=0:\n",
    "        r = n%10\n",
    "        list.append(r)\n",
    "        n=n//10\n",
    "    list.reverse()\n",
    "    print(list)\n",
    "    \n",
    "n = int(input(\"Enter a number: \"))    \n",
    "numberToListConversion(n)    "
   ]
  },
  {
   "cell_type": "code",
   "execution_count": 24,
   "metadata": {},
   "outputs": [
    {
     "name": "stdout",
     "output_type": "stream",
     "text": [
      "[4, 6, 8]\n"
     ]
    }
   ],
   "source": [
    "#Print all the even numbers in a list\n",
    "b=[]\n",
    "def linearSearchForEven(a):\n",
    "    for i in range(len(a)):\n",
    "        if a[i]%2 == 0:\n",
    "            b.append(a[i])\n",
    "    \n",
    "a=[1,4,6,7,8]\n",
    "linearSearchForEven(a)\n",
    "print(b)"
   ]
  },
  {
   "cell_type": "code",
   "execution_count": null,
   "metadata": {},
   "outputs": [],
   "source": []
  }
 ],
 "metadata": {
  "kernelspec": {
   "display_name": "Python 3",
   "language": "python",
   "name": "python3"
  },
  "language_info": {
   "codemirror_mode": {
    "name": "ipython",
    "version": 3
   },
   "file_extension": ".py",
   "mimetype": "text/x-python",
   "name": "python",
   "nbconvert_exporter": "python",
   "pygments_lexer": "ipython3",
   "version": "3.7.3"
  }
 },
 "nbformat": 4,
 "nbformat_minor": 2
}
