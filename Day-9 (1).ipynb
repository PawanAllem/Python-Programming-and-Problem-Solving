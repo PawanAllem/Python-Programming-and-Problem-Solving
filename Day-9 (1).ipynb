{
 "cells": [
  {
   "cell_type": "code",
   "execution_count": null,
   "metadata": {},
   "outputs": [],
   "source": [
    " kjfdejd\"\n",
    "s1 = "
   ]
  },
  {
   "cell_type": "code",
   "execution_count": 1,
   "metadata": {},
   "outputs": [
    {
     "name": "stdout",
     "output_type": "stream",
     "text": [
      "0 letters found\n"
     ]
    }
   ],
   "source": [
    "count = 0\n",
    "for letter in 'Hello World':\n",
    "    if(letter=='1'):\n",
    "        count+=1\n",
    "print(count,'letters found')"
   ]
  },
  {
   "cell_type": "code",
   "execution_count": 3,
   "metadata": {},
   "outputs": [
    {
     "name": "stdout",
     "output_type": "stream",
     "text": [
      "str[5:-1]= STUDENT\n"
     ]
    }
   ],
   "source": [
    "str=\"GITAMSTUDENTS\"\n",
    "print(\"str[5:-1]=\",str[5:-1])"
   ]
  },
  {
   "cell_type": "code",
   "execution_count": 4,
   "metadata": {},
   "outputs": [
    {
     "name": "stdout",
     "output_type": "stream",
     "text": [
      "True\n",
      "False\n",
      "False\n"
     ]
    }
   ],
   "source": [
    "s = 'app'\n",
    "print(s.isalpha())\n",
    "s='a123'\n",
    "print(s.isalpha())\n",
    "s = '123'\n",
    "print(s.isalpha())"
   ]
  },
  {
   "cell_type": "code",
   "execution_count": 5,
   "metadata": {},
   "outputs": [
    {
     "name": "stdout",
     "output_type": "stream",
     "text": [
      "True\n"
     ]
    }
   ],
   "source": [
    "s='123'\n",
    "print(s.isnumeric())"
   ]
  },
  {
   "cell_type": "code",
   "execution_count": 6,
   "metadata": {},
   "outputs": [
    {
     "name": "stdout",
     "output_type": "stream",
     "text": [
      "True\n",
      "False\n"
     ]
    }
   ],
   "source": [
    "s='Application'\n",
    "print(s.istitle())\n",
    "s='application'\n",
    "print(s.istitle())"
   ]
  },
  {
   "cell_type": "code",
   "execution_count": 10,
   "metadata": {},
   "outputs": [
    {
     "name": "stdout",
     "output_type": "stream",
     "text": [
      "False\n"
     ]
    }
   ],
   "source": [
    "s = 'application'\n",
    "print(s.isspace())\n"
   ]
  },
  {
   "cell_type": "code",
   "execution_count": 12,
   "metadata": {},
   "outputs": [
    {
     "name": "stdout",
     "output_type": "stream",
     "text": [
      "p y t h o n\n"
     ]
    }
   ],
   "source": [
    "str ='python'\n",
    "print(\" \".join(str))"
   ]
  },
  {
   "cell_type": "code",
   "execution_count": null,
   "metadata": {},
   "outputs": [],
   "source": [
    "print(\",\".join[\"python\",\"programming\",\"easy\"])"
   ]
  },
  {
   "cell_type": "code",
   "execution_count": 1,
   "metadata": {},
   "outputs": [
    {
     "name": "stdout",
     "output_type": "stream",
     "text": [
      ",\n"
     ]
    }
   ],
   "source": [
    "list=[\"\",\"\"]\n",
    "print(\",\".join(list))"
   ]
  },
  {
   "cell_type": "code",
   "execution_count": 2,
   "metadata": {},
   "outputs": [
    {
     "name": "stdout",
     "output_type": "stream",
     "text": [
      "['python', 'programming']\n"
     ]
    }
   ],
   "source": [
    "s='python programming'\n",
    "print(s.split())"
   ]
  },
  {
   "cell_type": "code",
   "execution_count": 3,
   "metadata": {},
   "outputs": [
    {
     "name": "stdout",
     "output_type": "stream",
     "text": [
      "['python', 'programming', 'is', 'easy', 'to', 'learn']\n",
      "['python progr', 'mming is e', 'sy to le', 'rn']\n",
      "['python programming is easy to learn']\n"
     ]
    }
   ],
   "source": [
    "s=\"python programming is easy to learn\"\n",
    "print(s.split())\n",
    "print(s.split(\"a\"))\n",
    "print(s.split(\",\"))"
   ]
  },
  {
   "cell_type": "code",
   "execution_count": 4,
   "metadata": {},
   "outputs": [
    {
     "name": "stdout",
     "output_type": "stream",
     "text": [
      "['Pawan', 'is', 'very', 'humourous']\n",
      "['Pawan', 'is', 'very', 'humourous']\n",
      "2\n"
     ]
    }
   ],
   "source": [
    "s='Pawan is very humourous'\n",
    "print(s.split())\n",
    "list=s.split()\n",
    "print(list)\n",
    "print(list.index(\"very\"))"
   ]
  },
  {
   "cell_type": "code",
   "execution_count": null,
   "metadata": {},
   "outputs": [],
   "source": [
    "s=\"python programming\"\n",
    "print(s.replace(\"python\",\"c\"))"
   ]
  },
  {
   "cell_type": "markdown",
   "metadata": {},
   "source": [
    "## Tuple Methods:\n",
    "# 1)len(tuple):- len of the tuple\n",
    "# 2_max(tuple):- find the max among the given numbers\n",
    "# 3)min(tuple):- find the min among the given numbers\n",
    "# 4)cmp(tuple):- to compare the tuples"
   ]
  },
  {
   "cell_type": "code",
   "execution_count": 5,
   "metadata": {},
   "outputs": [
    {
     "name": "stdout",
     "output_type": "stream",
     "text": [
      "('Python', 'Programming', 1989, 2019, 'Machine Learning', 'AI')\n",
      "(1, 2, 3, 4, 5)\n"
     ]
    }
   ],
   "source": [
    "t1=(\"Python\",\"Programming\",1989,2019,\"Machine Learning\",\"AI\")\n",
    "t2=(1,2,3,4,5)\n",
    "print(t1)\n",
    "print(t2)"
   ]
  },
  {
   "cell_type": "code",
   "execution_count": 7,
   "metadata": {},
   "outputs": [],
   "source": [
    "user1 = {'Name':'Anil','Age':29,'EmailID':'anil@gmail.com'}\n",
    "del user1['EmailID']\n",
    "user1.clear()\n",
    "del user1"
   ]
  },
  {
   "cell_type": "code",
   "execution_count": 6,
   "metadata": {},
   "outputs": [
    {
     "name": "stdout",
     "output_type": "stream",
     "text": [
      "t1[0]= Python\n",
      "t1[2]= 1989\n",
      "t1[-1]= AI\n",
      "t1[1:4]= ('Programming', 1989, 2019)\n",
      "t1[2:-2]= (1989, 2019)\n",
      "t1[4:-1]= ('Machine Learning',)\n"
     ]
    }
   ],
   "source": [
    "t1=(\"Python\",\"Programming\",1989,2019,\"Machine Learning\",\"AI\")\n",
    "print(\"t1[0]=\",t1[0])\n",
    "print(\"t1[2]=\",t1[2])\n",
    "print(\"t1[-1]=\",t1[-1])\n",
    "print(\"t1[1:4]=\",t1[1:4])\n",
    "print(\"t1[2:-2]=\",t1[2:-2])\n",
    "print(\"t1[4:-1]=\",t1[4:-1])"
   ]
  },
  {
   "cell_type": "code",
   "execution_count": 8,
   "metadata": {},
   "outputs": [
    {
     "name": "stdout",
     "output_type": "stream",
     "text": [
      "('Python', 'Programming', 1989, 2019, 'ML', 'AI')\n"
     ]
    }
   ],
   "source": [
    "t1=(\"Python\",\"Programming\")\n",
    "t2=(1989,2019,\"ML\",\"AI\")\n",
    "t3=t1+t2\n",
    "print(t3)"
   ]
  },
  {
   "cell_type": "code",
   "execution_count": 9,
   "metadata": {},
   "outputs": [
    {
     "name": "stdout",
     "output_type": "stream",
     "text": [
      "('Python', 'Greeks')\n"
     ]
    }
   ],
   "source": [
    "tup='Python','Greeks'\n",
    "print(tup)"
   ]
  },
  {
   "cell_type": "code",
   "execution_count": 10,
   "metadata": {},
   "outputs": [
    {
     "name": "stdout",
     "output_type": "stream",
     "text": [
      "('Python', 'Python', 'Python', 'Python', 'Python')\n"
     ]
    }
   ],
   "source": [
    "tup=('Python',)*5\n",
    "print(tup)"
   ]
  },
  {
   "cell_type": "code",
   "execution_count": 11,
   "metadata": {},
   "outputs": [
    {
     "name": "stdout",
     "output_type": "stream",
     "text": [
      "(1, 2, 3)\n",
      "(3, 2, 1, 0)\n",
      "(2, 3)\n"
     ]
    }
   ],
   "source": [
    "tuple1 = (0 ,1, 2, 3) \n",
    "print(tuple1[1:]) \n",
    "print(tuple1[::-1]) \n",
    "print(tuple1[2:4])"
   ]
  },
  {
   "cell_type": "code",
   "execution_count": 12,
   "metadata": {
    "scrolled": true
   },
   "outputs": [
    {
     "name": "stdout",
     "output_type": "stream",
     "text": [
      "6\n"
     ]
    }
   ],
   "source": [
    "t1=(\"Python\",\"Programming\",1989,2019,\"Machine Learning\",\"AI\")\n",
    "print(len(t1))"
   ]
  },
  {
   "cell_type": "code",
   "execution_count": 13,
   "metadata": {},
   "outputs": [
    {
     "name": "stdout",
     "output_type": "stream",
     "text": [
      "21\n"
     ]
    },
    {
     "ename": "TypeError",
     "evalue": "'>' not supported between instances of 'int' and 'str'",
     "output_type": "error",
     "traceback": [
      "\u001b[1;31m---------------------------------------------------------------------------\u001b[0m",
      "\u001b[1;31mTypeError\u001b[0m                                 Traceback (most recent call last)",
      "\u001b[1;32m<ipython-input-13-f4d35588297d>\u001b[0m in \u001b[0;36m<module>\u001b[1;34m\u001b[0m\n\u001b[0;32m      2\u001b[0m \u001b[0mt2\u001b[0m\u001b[1;33m=\u001b[0m\u001b[1;33m(\u001b[0m\u001b[1;34m\"Python\"\u001b[0m\u001b[1;33m,\u001b[0m\u001b[1;36m12\u001b[0m\u001b[1;33m,\u001b[0m\u001b[1;36m7\u001b[0m\u001b[1;33m,\u001b[0m\u001b[1;34m\"Programming\"\u001b[0m\u001b[1;33m)\u001b[0m\u001b[1;33m\u001b[0m\u001b[1;33m\u001b[0m\u001b[0m\n\u001b[0;32m      3\u001b[0m \u001b[0mprint\u001b[0m\u001b[1;33m(\u001b[0m\u001b[0mmax\u001b[0m\u001b[1;33m(\u001b[0m\u001b[0mt1\u001b[0m\u001b[1;33m)\u001b[0m\u001b[1;33m)\u001b[0m\u001b[1;33m\u001b[0m\u001b[1;33m\u001b[0m\u001b[0m\n\u001b[1;32m----> 4\u001b[1;33m \u001b[0mprint\u001b[0m\u001b[1;33m(\u001b[0m\u001b[0mmax\u001b[0m\u001b[1;33m(\u001b[0m\u001b[0mt2\u001b[0m\u001b[1;33m)\u001b[0m\u001b[1;33m)\u001b[0m\u001b[1;33m\u001b[0m\u001b[1;33m\u001b[0m\u001b[0m\n\u001b[0m",
      "\u001b[1;31mTypeError\u001b[0m: '>' not supported between instances of 'int' and 'str'"
     ]
    }
   ],
   "source": [
    "t1=(12,7,10,21,15,20)\n",
    "t2=(\"Python\",12,7,\"Programming\")\n",
    "print(max(t1))\n",
    "print(max(t2))"
   ]
  },
  {
   "cell_type": "code",
   "execution_count": 14,
   "metadata": {
    "scrolled": true
   },
   "outputs": [
    {
     "name": "stdout",
     "output_type": "stream",
     "text": [
      "19\n"
     ]
    }
   ],
   "source": [
    "t1=(19,23,44,56,73,56,87)\n",
    "print(min(t1))"
   ]
  },
  {
   "cell_type": "code",
   "execution_count": 15,
   "metadata": {
    "scrolled": true
   },
   "outputs": [
    {
     "name": "stdout",
     "output_type": "stream",
     "text": [
      "['Python', 'Programming', 1989, 2019, 'Machine Learning', 'AI']\n",
      "('Python', 'Programming', 1989, 2019, 'Machine Learning', 'AI')\n"
     ]
    }
   ],
   "source": [
    "list1=[\"Python\",\"Programming\",1989,2019,\"Machine Learning\",\"AI\"]\n",
    "print(list1)\n",
    "tuple1=tuple(list1)\n",
    "print(tuple1)"
   ]
  },
  {
   "cell_type": "code",
   "execution_count": 16,
   "metadata": {},
   "outputs": [
    {
     "name": "stdout",
     "output_type": "stream",
     "text": [
      "3\n"
     ]
    }
   ],
   "source": [
    "tuple = (\"apple\", \"banana\", \"cherry\")\n",
    "print(len(tuple))"
   ]
  },
  {
   "cell_type": "code",
   "execution_count": 17,
   "metadata": {},
   "outputs": [
    {
     "name": "stdout",
     "output_type": "stream",
     "text": [
      "{'Name': 'Anil', 'Age': 29, 'EmailID': 'anil@gmail.com'}\n",
      "{'Name': 'Anil', 'Age': 29, 'EmailID': 'anil@gmail.com'}\n",
      "{'Name': 'Anil', 'Age': 29, 'EmailID': 'anil@gmail.com', 'Address': 'Hyderabad'}\n",
      "{'Name': 'Anil', 'Age': 29, 'EmailID': 'anil@gmail.com'}\n"
     ]
    }
   ],
   "source": [
    "user1 = {'Name':'Anil','Age':29,'EmailID':'anil@gmail.com'}\n",
    "user2 = user1.copy()\n",
    "print(user1)\n",
    "print(user2)\n",
    "user1['Address'] = \"Hyderabad\"\n",
    "print(user1)\n",
    "print(user2)\n"
   ]
  },
  {
   "cell_type": "code",
   "execution_count": null,
   "metadata": {},
   "outputs": [],
   "source": []
  },
  {
   "cell_type": "code",
   "execution_count": 18,
   "metadata": {},
   "outputs": [
    {
     "name": "stdout",
     "output_type": "stream",
     "text": [
      "dict_items([('Name', 'Anil'), ('Age', 29), ('EmailID', 'anil@gmail.com')])\n"
     ]
    }
   ],
   "source": [
    "user1 = {'Name':'Anil','Age':29,'EmailID':'anil@gmail.com'}\n",
    "print(user1.items())"
   ]
  },
  {
   "cell_type": "code",
   "execution_count": 19,
   "metadata": {},
   "outputs": [
    {
     "name": "stdout",
     "output_type": "stream",
     "text": [
      "dict_values(['Anil', 29, 'anil@gmail.com'])\n",
      "dict_values(['Anil', 29, 'anil@gmail.com'])\n"
     ]
    }
   ],
   "source": [
    "user1 = {'Name':'Anil','Age':29,'EmailID':'anil@gmail.com'}\n",
    "user2 = user1.copy()\n",
    "print(user1.values())\n",
    "print(user2.values())"
   ]
  },
  {
   "cell_type": "code",
   "execution_count": 22,
   "metadata": {},
   "outputs": [
    {
     "name": "stdout",
     "output_type": "stream",
     "text": [
      "Python Programming\n"
     ]
    }
   ],
   "source": [
    "lst = ['Python','Programming']\n",
    "print(\"%s %s\"%(lst[0],lst[1]))"
   ]
  },
  {
   "cell_type": "code",
   "execution_count": 23,
   "metadata": {},
   "outputs": [
    {
     "name": "stdout",
     "output_type": "stream",
     "text": [
      "Python Programming\n"
     ]
    }
   ],
   "source": [
    "lst = ['Python','Programming']\n",
    "print(\"{0} {1}\".format(lst[0],lst[1]))"
   ]
  },
  {
   "cell_type": "code",
   "execution_count": 26,
   "metadata": {},
   "outputs": [
    {
     "name": "stdout",
     "output_type": "stream",
     "text": [
      "Contact Pawan added\n",
      "Contact eeennttiiii added\n",
      "Contact Pawan already exists\n"
     ]
    }
   ],
   "source": [
    "contact = {}\n",
    "def addcontact(name,phone):\n",
    "    if name not in contact:\n",
    "        contact[name] =phone\n",
    "        print(\"Contact %s added\" %name)\n",
    "    else:\n",
    "        print(\"Contact %s already exists\" %name)\n",
    "    return\n",
    "addcontact(\"Pawan\",9121902842)\n",
    "addcontact(\"eeennttiiii\",9121902842)\n",
    "addcontact(\"Pawan\",9121902842)"
   ]
  },
  {
   "cell_type": "markdown",
   "metadata": {},
   "source": [
    "## Search from a Contact List"
   ]
  },
  {
   "cell_type": "code",
   "execution_count": 29,
   "metadata": {},
   "outputs": [
    {
     "ename": "NameError",
     "evalue": "name 'contacts' is not defined",
     "output_type": "error",
     "traceback": [
      "\u001b[1;31m---------------------------------------------------------------------------\u001b[0m",
      "\u001b[1;31mNameError\u001b[0m                                 Traceback (most recent call last)",
      "\u001b[1;32m<ipython-input-29-0f20a86b7fc1>\u001b[0m in \u001b[0;36m<module>\u001b[1;34m\u001b[0m\n\u001b[0;32m      5\u001b[0m         \u001b[0mprint\u001b[0m\u001b[1;33m(\u001b[0m\u001b[1;34m\"%s does not exist\"\u001b[0m \u001b[1;33m%\u001b[0m\u001b[0mname\u001b[0m\u001b[1;33m)\u001b[0m\u001b[1;33m\u001b[0m\u001b[1;33m\u001b[0m\u001b[0m\n\u001b[0;32m      6\u001b[0m     \u001b[1;32mreturn\u001b[0m\u001b[1;33m\u001b[0m\u001b[1;33m\u001b[0m\u001b[0m\n\u001b[1;32m----> 7\u001b[1;33m \u001b[0msearchContact\u001b[0m\u001b[1;33m(\u001b[0m\u001b[1;34m\"taraaaaaa\"\u001b[0m\u001b[1;33m)\u001b[0m\u001b[1;33m\u001b[0m\u001b[1;33m\u001b[0m\u001b[0m\n\u001b[0m\u001b[0;32m      8\u001b[0m \u001b[0msearchContact\u001b[0m\u001b[1;33m(\u001b[0m\u001b[1;34m\"Pawaaaaa\"\u001b[0m\u001b[1;33m)\u001b[0m\u001b[1;33m\u001b[0m\u001b[1;33m\u001b[0m\u001b[0m\n\u001b[0;32m      9\u001b[0m \u001b[0msearchContact\u001b[0m\u001b[1;33m(\u001b[0m\u001b[1;34m\"Anaaaaaa\"\u001b[0m\u001b[1;33m)\u001b[0m\u001b[1;33m\u001b[0m\u001b[1;33m\u001b[0m\u001b[0m\n",
      "\u001b[1;32m<ipython-input-29-0f20a86b7fc1>\u001b[0m in \u001b[0;36msearchContact\u001b[1;34m(name)\u001b[0m\n\u001b[0;32m      1\u001b[0m \u001b[1;32mdef\u001b[0m \u001b[0msearchContact\u001b[0m\u001b[1;33m(\u001b[0m\u001b[0mname\u001b[0m\u001b[1;33m)\u001b[0m\u001b[1;33m:\u001b[0m\u001b[1;33m\u001b[0m\u001b[1;33m\u001b[0m\u001b[0m\n\u001b[1;32m----> 2\u001b[1;33m     \u001b[1;32mif\u001b[0m \u001b[0mname\u001b[0m \u001b[1;32min\u001b[0m \u001b[0mcontacts\u001b[0m\u001b[1;33m:\u001b[0m\u001b[1;33m\u001b[0m\u001b[1;33m\u001b[0m\u001b[0m\n\u001b[0m\u001b[0;32m      3\u001b[0m         \u001b[0mprint\u001b[0m\u001b[1;33m(\u001b[0m\u001b[0mname\u001b[0m\u001b[1;33m,\u001b[0m\u001b[1;34m\":\"\u001b[0m\u001b[1;33m,\u001b[0m\u001b[0mcontacts\u001b[0m\u001b[1;33m[\u001b[0m\u001b[0mname\u001b[0m\u001b[1;33m]\u001b[0m\u001b[1;33m)\u001b[0m\u001b[1;33m\u001b[0m\u001b[1;33m\u001b[0m\u001b[0m\n\u001b[0;32m      4\u001b[0m     \u001b[1;32melse\u001b[0m\u001b[1;33m:\u001b[0m\u001b[1;33m\u001b[0m\u001b[1;33m\u001b[0m\u001b[0m\n\u001b[0;32m      5\u001b[0m         \u001b[0mprint\u001b[0m\u001b[1;33m(\u001b[0m\u001b[1;34m\"%s does not exist\"\u001b[0m \u001b[1;33m%\u001b[0m\u001b[0mname\u001b[0m\u001b[1;33m)\u001b[0m\u001b[1;33m\u001b[0m\u001b[1;33m\u001b[0m\u001b[0m\n",
      "\u001b[1;31mNameError\u001b[0m: name 'contacts' is not defined"
     ]
    }
   ],
   "source": [
    "def searchContact(name):\n",
    "    if name in contacts:\n",
    "        print(name,\":\",contacts[name])\n",
    "    else:\n",
    "        print(\"%s does not exist\" %name)\n",
    "    return       \n",
    "searchContact(\"taraaaaaa\")\n",
    "searchContact(\"Pawaaaaa\")\n",
    "searchContact(\"Anaaaaaa\")"
   ]
  },
  {
   "cell_type": "code",
   "execution_count": 25,
   "metadata": {},
   "outputs": [
    {
     "ename": "NameError",
     "evalue": "name 'contacts' is not defined",
     "output_type": "error",
     "traceback": [
      "\u001b[1;31m---------------------------------------------------------------------------\u001b[0m",
      "\u001b[1;31mNameError\u001b[0m                                 Traceback (most recent call last)",
      "\u001b[1;32m<ipython-input-25-98eb6b0934c3>\u001b[0m in \u001b[0;36m<module>\u001b[1;34m\u001b[0m\n\u001b[0;32m      6\u001b[0m     \u001b[1;32mreturn\u001b[0m\u001b[1;33m\u001b[0m\u001b[1;33m\u001b[0m\u001b[0m\n\u001b[0;32m      7\u001b[0m \u001b[0mnewContacts\u001b[0m \u001b[1;33m=\u001b[0m \u001b[1;33m{\u001b[0m\u001b[1;34m'Dinesh'\u001b[0m\u001b[1;33m:\u001b[0m\u001b[1;36m6535617951\u001b[0m\u001b[1;33m,\u001b[0m\u001b[1;34m'Ajay'\u001b[0m\u001b[1;33m:\u001b[0m\u001b[1;36m837157345\u001b[0m\u001b[1;33m}\u001b[0m\u001b[1;33m\u001b[0m\u001b[1;33m\u001b[0m\u001b[0m\n\u001b[1;32m----> 8\u001b[1;33m \u001b[0mimportContacts\u001b[0m\u001b[1;33m(\u001b[0m\u001b[0mnewContacts\u001b[0m\u001b[1;33m)\u001b[0m\u001b[1;33m\u001b[0m\u001b[1;33m\u001b[0m\u001b[0m\n\u001b[0m",
      "\u001b[1;32m<ipython-input-25-98eb6b0934c3>\u001b[0m in \u001b[0;36mimportContacts\u001b[1;34m(newContacts)\u001b[0m\n\u001b[0;32m      2\u001b[0m \u001b[1;31m#Merge new contacts with existing ones\u001b[0m\u001b[1;33m\u001b[0m\u001b[1;33m\u001b[0m\u001b[1;33m\u001b[0m\u001b[0m\n\u001b[0;32m      3\u001b[0m \u001b[1;32mdef\u001b[0m \u001b[0mimportContacts\u001b[0m\u001b[1;33m(\u001b[0m\u001b[0mnewContacts\u001b[0m\u001b[1;33m)\u001b[0m\u001b[1;33m:\u001b[0m\u001b[1;33m\u001b[0m\u001b[1;33m\u001b[0m\u001b[0m\n\u001b[1;32m----> 4\u001b[1;33m     \u001b[0mcontacts\u001b[0m\u001b[1;33m.\u001b[0m\u001b[0mupdate\u001b[0m\u001b[1;33m(\u001b[0m\u001b[0mnewContacts\u001b[0m\u001b[1;33m)\u001b[0m\u001b[1;33m\u001b[0m\u001b[1;33m\u001b[0m\u001b[0m\n\u001b[0m\u001b[0;32m      5\u001b[0m     \u001b[0mprint\u001b[0m\u001b[1;33m(\u001b[0m\u001b[0mlen\u001b[0m\u001b[1;33m(\u001b[0m\u001b[0mnewContacts\u001b[0m\u001b[1;33m.\u001b[0m\u001b[0mkeys\u001b[0m\u001b[1;33m(\u001b[0m\u001b[1;33m)\u001b[0m\u001b[1;33m)\u001b[0m\u001b[1;33m,\u001b[0m\u001b[1;34m\"Contacts succesfully added\"\u001b[0m\u001b[1;33m)\u001b[0m\u001b[1;33m\u001b[0m\u001b[1;33m\u001b[0m\u001b[0m\n\u001b[0;32m      6\u001b[0m     \u001b[1;32mreturn\u001b[0m\u001b[1;33m\u001b[0m\u001b[1;33m\u001b[0m\u001b[0m\n",
      "\u001b[1;31mNameError\u001b[0m: name 'contacts' is not defined"
     ]
    }
   ],
   "source": [
    "#New contacts is given as directory\n",
    "#Merge new contacts with existing ones\n",
    "def importContacts(newContacts):\n",
    "    contacts.update(newContacts)\n",
    "    print(len(newContacts.keys()),\"Contacts succesfully added\")\n",
    "    return\n",
    "newContacts = {'Dinesh':6535617951,'Ajay':837157345}\n",
    "importContacts(newContacts)"
   ]
  },
  {
   "cell_type": "code",
   "execution_count": null,
   "metadata": {},
   "outputs": [],
   "source": [
    "# delete contact\n",
    "def deleteContact(name):\n",
    "    if name in contacts:\n",
    "        \n",
    "        del contacts[name]\n",
    "        print(name,\": is deleted from the contacts\")\n",
    "    else:\n",
    "        print()"
   ]
  },
  {
   "cell_type": "code",
   "execution_count": 30,
   "metadata": {},
   "outputs": [
    {
     "ename": "NameError",
     "evalue": "name 'contacts' is not defined",
     "output_type": "error",
     "traceback": [
      "\u001b[1;31m---------------------------------------------------------------------------\u001b[0m",
      "\u001b[1;31mNameError\u001b[0m                                 Traceback (most recent call last)",
      "\u001b[1;32m<ipython-input-30-abd02a99ff21>\u001b[0m in \u001b[0;36m<module>\u001b[1;34m\u001b[0m\n\u001b[1;32m----> 1\u001b[1;33m \u001b[0mprint\u001b[0m\u001b[1;33m(\u001b[0m\u001b[0mcontacts\u001b[0m\u001b[1;33m)\u001b[0m\u001b[1;33m\u001b[0m\u001b[1;33m\u001b[0m\u001b[0m\n\u001b[0m",
      "\u001b[1;31mNameError\u001b[0m: name 'contacts' is not defined"
     ]
    }
   ],
   "source": [
    "print(contacts)"
   ]
  },
  {
   "cell_type": "code",
   "execution_count": null,
   "metadata": {},
   "outputs": [],
   "source": [
    "#generate random numbers\n",
    "import random\n",
    "def generateRandomNumber(n,lb,ub):\n",
    "    "
   ]
  },
  {
   "cell_type": "code",
   "execution_count": 33,
   "metadata": {},
   "outputs": [
    {
     "data": {
      "text/plain": [
       "120"
      ]
     },
     "execution_count": 33,
     "metadata": {},
     "output_type": "execute_result"
    }
   ],
   "source": [
    "import  math \n",
    "math.factorial(5)"
   ]
  },
  {
   "cell_type": "code",
   "execution_count": 36,
   "metadata": {},
   "outputs": [
    {
     "data": {
      "text/plain": [
       "123"
      ]
     },
     "execution_count": 36,
     "metadata": {},
     "output_type": "execute_result"
    }
   ],
   "source": [
    "from math import floor as fl\n",
    "fl(123.456)"
   ]
  },
  {
   "cell_type": "code",
   "execution_count": null,
   "metadata": {},
   "outputs": [],
   "source": []
  }
 ],
 "metadata": {
  "kernelspec": {
   "display_name": "Python 3",
   "language": "python",
   "name": "python3"
  },
  "language_info": {
   "codemirror_mode": {
    "name": "ipython",
    "version": 3
   },
   "file_extension": ".py",
   "mimetype": "text/x-python",
   "name": "python",
   "nbconvert_exporter": "python",
   "pygments_lexer": "ipython3",
   "version": "3.7.3"
  }
 },
 "nbformat": 4,
 "nbformat_minor": 2
}
